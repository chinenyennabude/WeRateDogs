{
 "cells": [
  {
   "cell_type": "markdown",
   "id": "1260c923",
   "metadata": {},
   "source": [
    "# Act Report"
   ]
  },
  {
   "cell_type": "markdown",
   "id": "bc7049f2",
   "metadata": {},
   "source": [
    "### Analysis\n",
    "\n",
    "Data wrangling process was completeted on the three datasets ```twitter_archive```, ```image_predictions.tsv```, and ```tweet_df```, where some content and structural issues were addressed. After the wrangling process all dataset has been merged into a master dataset ```master_data.csv```. Next I analysed the master dataset, Data analysis is the process involved in inspecting, cleaning, transforming and modelling data with the goal of extracting useful insights and informing conclusions to support decision making.\n",
    "\n",
    "The cleaned```master_data.csv``` contains 2073 rows and 22 columns. In order to answer the question **Which Dog is the most popular** and **Find the relationship between favourite and retweet count**, I used visualizations to explore the WeRateDog ```master_data.csv```.\n",
    "\n",
    "### Conclusion\n",
    "\n",
    "Exploratory analysis was carried out and the following insights was derived from the cleaned master dataset:\n",
    "\n",
    "1. There is a positive correlation between retweet counts and favourite count\n",
    "\n",
    "2. Tweet counts increase as favourite count increases\n",
    "\n",
    "3. Charlie is the most Popular Dog breed in the dataset\n",
    "\n",
    "### Limitations\n",
    "\n",
    "Due to the large volume of the dataset, performing explorations on some of the numerical and categorical variables wasn't giving reasonable insights to other questions I was curious about, I also realise this could also be due to lack of experience/coding techniques for handling large dataset. Will continue to practise and get my hands dirty to keep the learning curve up.\n",
    "\n"
   ]
  }
 ],
 "metadata": {
  "kernelspec": {
   "display_name": "Python 3 (ipykernel)",
   "language": "python",
   "name": "python3"
  },
  "language_info": {
   "codemirror_mode": {
    "name": "ipython",
    "version": 3
   },
   "file_extension": ".py",
   "mimetype": "text/x-python",
   "name": "python",
   "nbconvert_exporter": "python",
   "pygments_lexer": "ipython3",
   "version": "3.9.12"
  }
 },
 "nbformat": 4,
 "nbformat_minor": 5
}
